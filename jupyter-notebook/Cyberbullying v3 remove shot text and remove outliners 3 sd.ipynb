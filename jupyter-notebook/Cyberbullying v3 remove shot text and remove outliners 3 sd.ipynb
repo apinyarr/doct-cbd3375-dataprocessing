{
 "cells": [
  {
   "cell_type": "code",
   "execution_count": 1,
   "id": "9ecb9613",
   "metadata": {},
   "outputs": [],
   "source": [
    "#########################################################################\n",
    "# CBD3375_2 Capstone Project                                            #\n",
    "#                                                                       #\n",
    "# Team Member                                                           #\n",
    "# 1. Apinya Theerawitthayawut         C0874071                          #\n",
    "# 2. Divya Diddi                      C0872752                          #\n",
    "# 3. Ivneet Kaur Ivneet Kaur          C0879831                          #\n",
    "# 4. Rohit Rana                       C0872294                          #\n",
    "# 5. Smit Bhaveshbhai Kalkani         C0872757                          #\n",
    "#########################################################################"
   ]
  },
  {
   "cell_type": "code",
   "execution_count": 1,
   "id": "7fa15b7b",
   "metadata": {},
   "outputs": [],
   "source": [
    "# Import pandas before use DataFrame\n",
    "import pandas as pd"
   ]
  },
  {
   "cell_type": "code",
   "execution_count": 2,
   "id": "c9c9d7e2",
   "metadata": {},
   "outputs": [],
   "source": [
    "# Read CSV dataset to the DataFrame\n",
    "tweeter_df = pd.read_csv('cyberbullying_tweets.csv')"
   ]
  },
  {
   "cell_type": "code",
   "execution_count": 3,
   "id": "c1d7d817",
   "metadata": {},
   "outputs": [
    {
     "data": {
      "text/html": [
       "<div>\n",
       "<style scoped>\n",
       "    .dataframe tbody tr th:only-of-type {\n",
       "        vertical-align: middle;\n",
       "    }\n",
       "\n",
       "    .dataframe tbody tr th {\n",
       "        vertical-align: top;\n",
       "    }\n",
       "\n",
       "    .dataframe thead th {\n",
       "        text-align: right;\n",
       "    }\n",
       "</style>\n",
       "<table border=\"1\" class=\"dataframe\">\n",
       "  <thead>\n",
       "    <tr style=\"text-align: right;\">\n",
       "      <th></th>\n",
       "      <th>tweet_text</th>\n",
       "      <th>cyberbullying_type</th>\n",
       "    </tr>\n",
       "  </thead>\n",
       "  <tbody>\n",
       "    <tr>\n",
       "      <th>0</th>\n",
       "      <td>In other words #katandandre, your food was cra...</td>\n",
       "      <td>not_cyberbullying</td>\n",
       "    </tr>\n",
       "    <tr>\n",
       "      <th>1</th>\n",
       "      <td>Why is #aussietv so white? #MKR #theblock #ImA...</td>\n",
       "      <td>not_cyberbullying</td>\n",
       "    </tr>\n",
       "    <tr>\n",
       "      <th>2</th>\n",
       "      <td>@XochitlSuckkks a classy whore? Or more red ve...</td>\n",
       "      <td>not_cyberbullying</td>\n",
       "    </tr>\n",
       "    <tr>\n",
       "      <th>3</th>\n",
       "      <td>@Jason_Gio meh. :P  thanks for the heads up, b...</td>\n",
       "      <td>not_cyberbullying</td>\n",
       "    </tr>\n",
       "    <tr>\n",
       "      <th>4</th>\n",
       "      <td>@RudhoeEnglish This is an ISIS account pretend...</td>\n",
       "      <td>not_cyberbullying</td>\n",
       "    </tr>\n",
       "  </tbody>\n",
       "</table>\n",
       "</div>"
      ],
      "text/plain": [
       "                                          tweet_text cyberbullying_type\n",
       "0  In other words #katandandre, your food was cra...  not_cyberbullying\n",
       "1  Why is #aussietv so white? #MKR #theblock #ImA...  not_cyberbullying\n",
       "2  @XochitlSuckkks a classy whore? Or more red ve...  not_cyberbullying\n",
       "3  @Jason_Gio meh. :P  thanks for the heads up, b...  not_cyberbullying\n",
       "4  @RudhoeEnglish This is an ISIS account pretend...  not_cyberbullying"
      ]
     },
     "execution_count": 3,
     "metadata": {},
     "output_type": "execute_result"
    }
   ],
   "source": [
    "# Print the imported DataFrame (only the first 5 rows)\n",
    "tweeter_df.head(5)"
   ]
  },
  {
   "cell_type": "code",
   "execution_count": 4,
   "id": "8941e5b2",
   "metadata": {},
   "outputs": [
    {
     "name": "stdout",
     "output_type": "stream",
     "text": [
      "<class 'pandas.core.frame.DataFrame'>\n",
      "RangeIndex: 47692 entries, 0 to 47691\n",
      "Data columns (total 2 columns):\n",
      " #   Column              Non-Null Count  Dtype \n",
      "---  ------              --------------  ----- \n",
      " 0   tweet_text          47692 non-null  object\n",
      " 1   cyberbullying_type  47692 non-null  object\n",
      "dtypes: object(2)\n",
      "memory usage: 745.3+ KB\n"
     ]
    }
   ],
   "source": [
    "# Analyze columns data types\n",
    "tweeter_df.info()"
   ]
  },
  {
   "cell_type": "code",
   "execution_count": 5,
   "id": "7a545de1",
   "metadata": {
    "scrolled": true
   },
   "outputs": [
    {
     "data": {
      "text/html": [
       "<div>\n",
       "<style scoped>\n",
       "    .dataframe tbody tr th:only-of-type {\n",
       "        vertical-align: middle;\n",
       "    }\n",
       "\n",
       "    .dataframe tbody tr th {\n",
       "        vertical-align: top;\n",
       "    }\n",
       "\n",
       "    .dataframe thead th {\n",
       "        text-align: right;\n",
       "    }\n",
       "</style>\n",
       "<table border=\"1\" class=\"dataframe\">\n",
       "  <thead>\n",
       "    <tr style=\"text-align: right;\">\n",
       "      <th></th>\n",
       "      <th>text</th>\n",
       "      <th>type</th>\n",
       "    </tr>\n",
       "  </thead>\n",
       "  <tbody>\n",
       "    <tr>\n",
       "      <th>0</th>\n",
       "      <td>In other words #katandandre, your food was cra...</td>\n",
       "      <td>not_cyberbullying</td>\n",
       "    </tr>\n",
       "    <tr>\n",
       "      <th>1</th>\n",
       "      <td>Why is #aussietv so white? #MKR #theblock #ImA...</td>\n",
       "      <td>not_cyberbullying</td>\n",
       "    </tr>\n",
       "    <tr>\n",
       "      <th>2</th>\n",
       "      <td>@XochitlSuckkks a classy whore? Or more red ve...</td>\n",
       "      <td>not_cyberbullying</td>\n",
       "    </tr>\n",
       "    <tr>\n",
       "      <th>3</th>\n",
       "      <td>@Jason_Gio meh. :P  thanks for the heads up, b...</td>\n",
       "      <td>not_cyberbullying</td>\n",
       "    </tr>\n",
       "    <tr>\n",
       "      <th>4</th>\n",
       "      <td>@RudhoeEnglish This is an ISIS account pretend...</td>\n",
       "      <td>not_cyberbullying</td>\n",
       "    </tr>\n",
       "  </tbody>\n",
       "</table>\n",
       "</div>"
      ],
      "text/plain": [
       "                                                text               type\n",
       "0  In other words #katandandre, your food was cra...  not_cyberbullying\n",
       "1  Why is #aussietv so white? #MKR #theblock #ImA...  not_cyberbullying\n",
       "2  @XochitlSuckkks a classy whore? Or more red ve...  not_cyberbullying\n",
       "3  @Jason_Gio meh. :P  thanks for the heads up, b...  not_cyberbullying\n",
       "4  @RudhoeEnglish This is an ISIS account pretend...  not_cyberbullying"
      ]
     },
     "execution_count": 5,
     "metadata": {},
     "output_type": "execute_result"
    }
   ],
   "source": [
    "# Rename column name for easier to reference\n",
    "tweeter_df = tweeter_df.rename(columns = {\n",
    "    'tweet_text': 'text', \n",
    "    'cyberbullying_type': 'type'\n",
    "})\n",
    "\n",
    "# Check new columns\n",
    "tweeter_df.head(5)"
   ]
  },
  {
   "cell_type": "code",
   "execution_count": 6,
   "id": "f953f34b",
   "metadata": {},
   "outputs": [
    {
     "data": {
      "text/plain": [
       "text    0\n",
       "type    0\n",
       "dtype: int64"
      ]
     },
     "execution_count": 6,
     "metadata": {},
     "output_type": "execute_result"
    }
   ],
   "source": [
    "# Checking null value\n",
    "tweeter_df.isnull().sum()"
   ]
  },
  {
   "cell_type": "code",
   "execution_count": 7,
   "id": "6aa2e97b",
   "metadata": {},
   "outputs": [
    {
     "data": {
      "text/plain": [
       "type               \n",
       "religion               7998\n",
       "age                    7992\n",
       "gender                 7973\n",
       "ethnicity              7961\n",
       "not_cyberbullying      7945\n",
       "other_cyberbullying    7823\n",
       "dtype: int64"
      ]
     },
     "execution_count": 7,
     "metadata": {},
     "output_type": "execute_result"
    }
   ],
   "source": [
    "# Check number of each category\n",
    "tweeter_df[['type']].value_counts()"
   ]
  },
  {
   "cell_type": "code",
   "execution_count": 8,
   "id": "e5200a3d",
   "metadata": {},
   "outputs": [
    {
     "name": "stdout",
     "output_type": "stream",
     "text": [
      "Number of text before remove duplicated text is 47692\n",
      "Number of text after remove duplicated text is 47656\n"
     ]
    }
   ],
   "source": [
    "# Remove duplicate text first\n",
    "def remove_duplicate(df):\n",
    "    print(\"Number of text before remove duplicated text is\",df.shape[0])\n",
    "    df = df[~df.duplicated()]\n",
    "    print(\"Number of text after remove duplicated text is\",df.shape[0])\n",
    "    return df\n",
    "    \n",
    "tweeter_df = remove_duplicate(tweeter_df)"
   ]
  },
  {
   "cell_type": "code",
   "execution_count": 9,
   "id": "ffa3f5fa",
   "metadata": {},
   "outputs": [
    {
     "data": {
      "text/plain": [
       "type               \n",
       "religion               7997\n",
       "age                    7992\n",
       "ethnicity              7959\n",
       "gender                 7948\n",
       "not_cyberbullying      7937\n",
       "other_cyberbullying    7823\n",
       "dtype: int64"
      ]
     },
     "execution_count": 9,
     "metadata": {},
     "output_type": "execute_result"
    }
   ],
   "source": [
    "# Check number of each category\n",
    "tweeter_df[['type']].value_counts()"
   ]
  },
  {
   "cell_type": "code",
   "execution_count": 10,
   "id": "5167c6f0",
   "metadata": {
    "scrolled": true
   },
   "outputs": [
    {
     "data": {
      "image/png": "[encoded data removed]",
      "text/plain": [
       "<Figure size 432x288 with 1 Axes>"
      ]
     },
     "metadata": {
      "needs_background": "light"
     },
     "output_type": "display_data"
    }
   ],
   "source": [
    "# Compare number of types\n",
    "ax = tweeter_df['type'].value_counts().plot.bar()\n",
    "for c in ax.containers:\n",
    "    ax.bar_label(c)"
   ]
  },
  {
   "cell_type": "code",
   "execution_count": 11,
   "id": "c1df68b7",
   "metadata": {},
   "outputs": [
    {
     "data": {
      "text/plain": [
       "type             \n",
       "religion             7997\n",
       "age                  7992\n",
       "ethnicity            7959\n",
       "gender               7948\n",
       "not_cyberbullying    7937\n",
       "dtype: int64"
      ]
     },
     "execution_count": 11,
     "metadata": {},
     "output_type": "execute_result"
    }
   ],
   "source": [
    "# Remove type other_cyberbullying as it impact prediction result\n",
    "tweeter_df = tweeter_df[tweeter_df['type'] != 'other_cyberbullying']\n",
    "\n",
    "tweeter_df[['type']].value_counts()"
   ]
  },
  {
   "cell_type": "code",
   "execution_count": 12,
   "id": "6ca1f880",
   "metadata": {},
   "outputs": [
    {
     "name": "stdout",
     "output_type": "stream",
     "text": [
      "['', '', '', '', '', '', '', '', '', '', '', '', '', '', '', '', '', '', '', '', '', '❤😘', '', '', '', '', '', '', '', '', '', '', '', '', '', '', '', '', '', '', '', '', '', '', '', '', '', '', '', '', '', '', '', '', '', '', '', '', '', '', '', '', '', '', '', '', '', '', '', '', '', '', '', '', '', '', '', '', '', '', '😌', '', '', '', '', '', '', '', '', '', '', '', '', '', '', '', '', '', '', ''] \n",
      "\n",
      "['', '', '', '', '', '', '', '', '', '', '', '', '', '', '', '', '', '', '', '', '', 'red heart face blowing a kiss', '', '', '', '', '', '', '', '', '', '', '', '', '', '', '', '', '', '', '', '', '', '', '', '', '', '', '', '', '', '', '', '', '', '', '', '', '', '', '', '', '', '', '', '', '', '', '', '', '', '', '', '', '', '', '', '', '', '', 'relieved face', '', '', '', '', '', '', '', '', '', '', '', '', '', '', '', '', '', '', '']\n"
     ]
    },
    {
     "data": {
      "text/html": [
       "<div>\n",
       "<style scoped>\n",
       "    .dataframe tbody tr th:only-of-type {\n",
       "        vertical-align: middle;\n",
       "    }\n",
       "\n",
       "    .dataframe tbody tr th {\n",
       "        vertical-align: top;\n",
       "    }\n",
       "\n",
       "    .dataframe thead th {\n",
       "        text-align: right;\n",
       "    }\n",
       "</style>\n",
       "<table border=\"1\" class=\"dataframe\">\n",
       "  <thead>\n",
       "    <tr style=\"text-align: right;\">\n",
       "      <th></th>\n",
       "      <th>text</th>\n",
       "      <th>type</th>\n",
       "      <th>emojis</th>\n",
       "      <th>emojis_text</th>\n",
       "    </tr>\n",
       "  </thead>\n",
       "  <tbody>\n",
       "    <tr>\n",
       "      <th>0</th>\n",
       "      <td>In other words #katandandre, your food was cra...</td>\n",
       "      <td>not_cyberbullying</td>\n",
       "      <td></td>\n",
       "      <td></td>\n",
       "    </tr>\n",
       "    <tr>\n",
       "      <th>1</th>\n",
       "      <td>Why is #aussietv so white? #MKR #theblock #ImA...</td>\n",
       "      <td>not_cyberbullying</td>\n",
       "      <td></td>\n",
       "      <td></td>\n",
       "    </tr>\n",
       "    <tr>\n",
       "      <th>2</th>\n",
       "      <td>@XochitlSuckkks a classy whore? Or more red ve...</td>\n",
       "      <td>not_cyberbullying</td>\n",
       "      <td></td>\n",
       "      <td></td>\n",
       "    </tr>\n",
       "    <tr>\n",
       "      <th>3</th>\n",
       "      <td>@Jason_Gio meh. :P  thanks for the heads up, b...</td>\n",
       "      <td>not_cyberbullying</td>\n",
       "      <td></td>\n",
       "      <td></td>\n",
       "    </tr>\n",
       "    <tr>\n",
       "      <th>4</th>\n",
       "      <td>@RudhoeEnglish This is an ISIS account pretend...</td>\n",
       "      <td>not_cyberbullying</td>\n",
       "      <td></td>\n",
       "      <td></td>\n",
       "    </tr>\n",
       "    <tr>\n",
       "      <th>5</th>\n",
       "      <td>@Raja5aab @Quickieleaks Yes, the test of god i...</td>\n",
       "      <td>not_cyberbullying</td>\n",
       "      <td></td>\n",
       "      <td></td>\n",
       "    </tr>\n",
       "    <tr>\n",
       "      <th>6</th>\n",
       "      <td>Itu sekolah ya bukan tempat bully! Ga jauh kay...</td>\n",
       "      <td>not_cyberbullying</td>\n",
       "      <td></td>\n",
       "      <td></td>\n",
       "    </tr>\n",
       "    <tr>\n",
       "      <th>7</th>\n",
       "      <td>Karma. I hope it bites Kat on the butt. She is...</td>\n",
       "      <td>not_cyberbullying</td>\n",
       "      <td></td>\n",
       "      <td></td>\n",
       "    </tr>\n",
       "    <tr>\n",
       "      <th>8</th>\n",
       "      <td>@stockputout everything but mostly my priest</td>\n",
       "      <td>not_cyberbullying</td>\n",
       "      <td></td>\n",
       "      <td></td>\n",
       "    </tr>\n",
       "    <tr>\n",
       "      <th>9</th>\n",
       "      <td>Rebecca Black Drops Out of School Due to Bully...</td>\n",
       "      <td>not_cyberbullying</td>\n",
       "      <td></td>\n",
       "      <td></td>\n",
       "    </tr>\n",
       "    <tr>\n",
       "      <th>10</th>\n",
       "      <td>@Jord_Is_Dead http://t.co/UsQInYW5Gn</td>\n",
       "      <td>not_cyberbullying</td>\n",
       "      <td></td>\n",
       "      <td></td>\n",
       "    </tr>\n",
       "    <tr>\n",
       "      <th>11</th>\n",
       "      <td>The Bully flushes on KD http://twitvid.com/A2TNP</td>\n",
       "      <td>not_cyberbullying</td>\n",
       "      <td></td>\n",
       "      <td></td>\n",
       "    </tr>\n",
       "    <tr>\n",
       "      <th>12</th>\n",
       "      <td>Ughhhh #MKR</td>\n",
       "      <td>not_cyberbullying</td>\n",
       "      <td></td>\n",
       "      <td></td>\n",
       "    </tr>\n",
       "    <tr>\n",
       "      <th>13</th>\n",
       "      <td>RT @Kurdsnews: Turkish state has killed 241 ch...</td>\n",
       "      <td>not_cyberbullying</td>\n",
       "      <td></td>\n",
       "      <td></td>\n",
       "    </tr>\n",
       "    <tr>\n",
       "      <th>14</th>\n",
       "      <td>Love that the best response to the hotcakes th...</td>\n",
       "      <td>not_cyberbullying</td>\n",
       "      <td></td>\n",
       "      <td></td>\n",
       "    </tr>\n",
       "    <tr>\n",
       "      <th>15</th>\n",
       "      <td>@yasmimcaci @Bferrarii PAREM DE FAZER BULLYING...</td>\n",
       "      <td>not_cyberbullying</td>\n",
       "      <td></td>\n",
       "      <td></td>\n",
       "    </tr>\n",
       "    <tr>\n",
       "      <th>16</th>\n",
       "      <td>@sarinhacoral @Victor_Maggi tadinhu de mim , s...</td>\n",
       "      <td>not_cyberbullying</td>\n",
       "      <td></td>\n",
       "      <td></td>\n",
       "    </tr>\n",
       "    <tr>\n",
       "      <th>17</th>\n",
       "      <td>@0xabad1dea @kelseytheodore2 twitter is basica...</td>\n",
       "      <td>not_cyberbullying</td>\n",
       "      <td></td>\n",
       "      <td></td>\n",
       "    </tr>\n",
       "    <tr>\n",
       "      <th>18</th>\n",
       "      <td>Best pick up line? Hi, you're cute... ?: I lov...</td>\n",
       "      <td>not_cyberbullying</td>\n",
       "      <td></td>\n",
       "      <td></td>\n",
       "    </tr>\n",
       "    <tr>\n",
       "      <th>19</th>\n",
       "      <td>Now I gotta walk to classss?! I officially hat...</td>\n",
       "      <td>not_cyberbullying</td>\n",
       "      <td></td>\n",
       "      <td></td>\n",
       "    </tr>\n",
       "    <tr>\n",
       "      <th>20</th>\n",
       "      <td>@halalcunty @biebervalue @liamxkiwi @greenline...</td>\n",
       "      <td>not_cyberbullying</td>\n",
       "      <td></td>\n",
       "      <td></td>\n",
       "    </tr>\n",
       "    <tr>\n",
       "      <th>21</th>\n",
       "      <td>Kids Love😘❤ @ Mohamad Bin Zayed City مدينة محم...</td>\n",
       "      <td>not_cyberbullying</td>\n",
       "      <td>❤😘</td>\n",
       "      <td>red heart face blowing a kiss</td>\n",
       "    </tr>\n",
       "    <tr>\n",
       "      <th>22</th>\n",
       "      <td>I still have Jack, Amsterdam, Ciroc, Crown, Bu...</td>\n",
       "      <td>not_cyberbullying</td>\n",
       "      <td></td>\n",
       "      <td></td>\n",
       "    </tr>\n",
       "    <tr>\n",
       "      <th>23</th>\n",
       "      <td>@scottyswaggod men are the ones that are going...</td>\n",
       "      <td>not_cyberbullying</td>\n",
       "      <td></td>\n",
       "      <td></td>\n",
       "    </tr>\n",
       "    <tr>\n",
       "      <th>24</th>\n",
       "      <td>Wishing my arena partner was on. &amp;gt;.&amp;gt;  Re...</td>\n",
       "      <td>not_cyberbullying</td>\n",
       "      <td></td>\n",
       "      <td></td>\n",
       "    </tr>\n",
       "    <tr>\n",
       "      <th>25</th>\n",
       "      <td>Education Nation: Bullying | Turn to 10 http:/...</td>\n",
       "      <td>not_cyberbullying</td>\n",
       "      <td></td>\n",
       "      <td></td>\n",
       "    </tr>\n",
       "    <tr>\n",
       "      <th>26</th>\n",
       "      <td>@sand_dejesus Isso é bullying! @O_Patriarca</td>\n",
       "      <td>not_cyberbullying</td>\n",
       "      <td></td>\n",
       "      <td></td>\n",
       "    </tr>\n",
       "    <tr>\n",
       "      <th>27</th>\n",
       "      <td>@gcarothers eek. i can't stand split keyboards...</td>\n",
       "      <td>not_cyberbullying</td>\n",
       "      <td></td>\n",
       "      <td></td>\n",
       "    </tr>\n",
       "    <tr>\n",
       "      <th>28</th>\n",
       "      <td>@MaxBlumenthal @cpassevant @anadumitrescu13 Po...</td>\n",
       "      <td>not_cyberbullying</td>\n",
       "      <td></td>\n",
       "      <td></td>\n",
       "    </tr>\n",
       "    <tr>\n",
       "      <th>29</th>\n",
       "      <td>You know there are people out there who like @...</td>\n",
       "      <td>not_cyberbullying</td>\n",
       "      <td></td>\n",
       "      <td></td>\n",
       "    </tr>\n",
       "  </tbody>\n",
       "</table>\n",
       "</div>"
      ],
      "text/plain": [
       "                                                 text               type  \\\n",
       "0   In other words #katandandre, your food was cra...  not_cyberbullying   \n",
       "1   Why is #aussietv so white? #MKR #theblock #ImA...  not_cyberbullying   \n",
       "2   @XochitlSuckkks a classy whore? Or more red ve...  not_cyberbullying   \n",
       "3   @Jason_Gio meh. :P  thanks for the heads up, b...  not_cyberbullying   \n",
       "4   @RudhoeEnglish This is an ISIS account pretend...  not_cyberbullying   \n",
       "5   @Raja5aab @Quickieleaks Yes, the test of god i...  not_cyberbullying   \n",
       "6   Itu sekolah ya bukan tempat bully! Ga jauh kay...  not_cyberbullying   \n",
       "7   Karma. I hope it bites Kat on the butt. She is...  not_cyberbullying   \n",
       "8        @stockputout everything but mostly my priest  not_cyberbullying   \n",
       "9   Rebecca Black Drops Out of School Due to Bully...  not_cyberbullying   \n",
       "10               @Jord_Is_Dead http://t.co/UsQInYW5Gn  not_cyberbullying   \n",
       "11   The Bully flushes on KD http://twitvid.com/A2TNP  not_cyberbullying   \n",
       "12                                        Ughhhh #MKR  not_cyberbullying   \n",
       "13  RT @Kurdsnews: Turkish state has killed 241 ch...  not_cyberbullying   \n",
       "14  Love that the best response to the hotcakes th...  not_cyberbullying   \n",
       "15  @yasmimcaci @Bferrarii PAREM DE FAZER BULLYING...  not_cyberbullying   \n",
       "16  @sarinhacoral @Victor_Maggi tadinhu de mim , s...  not_cyberbullying   \n",
       "17  @0xabad1dea @kelseytheodore2 twitter is basica...  not_cyberbullying   \n",
       "18  Best pick up line? Hi, you're cute... ?: I lov...  not_cyberbullying   \n",
       "19  Now I gotta walk to classss?! I officially hat...  not_cyberbullying   \n",
       "20  @halalcunty @biebervalue @liamxkiwi @greenline...  not_cyberbullying   \n",
       "21  Kids Love😘❤ @ Mohamad Bin Zayed City مدينة محم...  not_cyberbullying   \n",
       "22  I still have Jack, Amsterdam, Ciroc, Crown, Bu...  not_cyberbullying   \n",
       "23  @scottyswaggod men are the ones that are going...  not_cyberbullying   \n",
       "24  Wishing my arena partner was on. &gt;.&gt;  Re...  not_cyberbullying   \n",
       "25  Education Nation: Bullying | Turn to 10 http:/...  not_cyberbullying   \n",
       "26        @sand_dejesus Isso é bullying! @O_Patriarca  not_cyberbullying   \n",
       "27  @gcarothers eek. i can't stand split keyboards...  not_cyberbullying   \n",
       "28  @MaxBlumenthal @cpassevant @anadumitrescu13 Po...  not_cyberbullying   \n",
       "29  You know there are people out there who like @...  not_cyberbullying   \n",
       "\n",
       "   emojis                    emojis_text  \n",
       "0                                         \n",
       "1                                         \n",
       "2                                         \n",
       "3                                         \n",
       "4                                         \n",
       "5                                         \n",
       "6                                         \n",
       "7                                         \n",
       "8                                         \n",
       "9                                         \n",
       "10                                        \n",
       "11                                        \n",
       "12                                        \n",
       "13                                        \n",
       "14                                        \n",
       "15                                        \n",
       "16                                        \n",
       "17                                        \n",
       "18                                        \n",
       "19                                        \n",
       "20                                        \n",
       "21     ❤😘  red heart face blowing a kiss  \n",
       "22                                        \n",
       "23                                        \n",
       "24                                        \n",
       "25                                        \n",
       "26                                        \n",
       "27                                        \n",
       "28                                        \n",
       "29                                        "
      ]
     },
     "execution_count": 12,
     "metadata": {},
     "output_type": "execute_result"
    }
   ],
   "source": [
    "# Copy emoji to new column\n",
    "import emoji\n",
    "import demoji\n",
    "\n",
    "# This function return emoji\n",
    "def get_emojis(text):\n",
    "    return ''.join(chars for chars in emoji.distinct_emoji_list(text))\n",
    "\n",
    "# This function convert emoji to text\n",
    "def get_emoji_text(emojis):\n",
    "    emoji_dict = demoji.findall(emojis)\n",
    "    values = emoji_dict.values()\n",
    "    return ' '.join(string for string in values)\n",
    "\n",
    "emojis = []\n",
    "emojis_text = []\n",
    "\n",
    "for t in tweeter_df.text:\n",
    "    emo = get_emojis(t)\n",
    "    emojis.append(emo)\n",
    "    emojis_text.append(get_emoji_text(emo))\n",
    "    \n",
    "# Print the first 100 emoji\n",
    "print(emojis[:100],\"\\n\")\n",
    "\n",
    "# Print the first 100 emoji text\n",
    "print(emojis_text[:100])\n",
    "\n",
    "# Add emojis column to DataFram\n",
    "tweeter_df['emojis'] = emojis\n",
    "tweeter_df['emojis_text'] = emojis_text\n",
    "\n",
    "tweeter_df.head(30)"
   ]
  },
  {
   "cell_type": "code",
   "execution_count": 13,
   "id": "4f332576",
   "metadata": {},
   "outputs": [
    {
     "name": "stdout",
     "output_type": "stream",
     "text": [
      "Text with emoji is 303\n",
      "Text without emoji is 39530\n"
     ]
    }
   ],
   "source": [
    "# Check number of text with emoji\n",
    "emoji_text = len(tweeter_df[tweeter_df['emojis_text'] != ''])\n",
    "non_emoji_text = len(tweeter_df[tweeter_df['emojis_text'] == ''])\n",
    "print(\"Text with emoji is\", emoji_text)\n",
    "print(\"Text without emoji is\", non_emoji_text)"
   ]
  },
  {
   "cell_type": "code",
   "execution_count": 14,
   "id": "63cc3418",
   "metadata": {},
   "outputs": [
    {
     "name": "stdout",
     "output_type": "stream",
     "text": [
      "Bully emoji text is 79\n",
      "Non-bully emoji text is 224\n",
      "Bully non-emoji text is 31817\n",
      "Non-bully non-emoji text is 7713\n"
     ]
    }
   ],
   "source": [
    "# Analyze emoji and bully type\n",
    "bully_emoji_text = tweeter_df[tweeter_df['emojis_text'] != '']\n",
    "bully_emoji_text = len(bully_emoji_text[bully_emoji_text['type'] != 'not_cyberbullying'])\n",
    "\n",
    "nonbully_emoji_text = tweeter_df[tweeter_df['emojis_text'] != '']\n",
    "nonbully_emoji_text = len(nonbully_emoji_text[nonbully_emoji_text['type'] == 'not_cyberbullying'])\n",
    "\n",
    "print(\"Bully emoji text is\", bully_emoji_text)\n",
    "print(\"Non-bully emoji text is\", nonbully_emoji_text)\n",
    "\n",
    "bully_nonemoji_text = tweeter_df[tweeter_df['emojis_text'] == '']\n",
    "bully_nonemoji_text = len(bully_nonemoji_text[bully_nonemoji_text['type'] != 'not_cyberbullying'])\n",
    "\n",
    "nonbully_nonemoji_text = tweeter_df[tweeter_df['emojis_text'] == '']\n",
    "nonbully_nonemoji_text = len(nonbully_nonemoji_text[nonbully_nonemoji_text['type'] == 'not_cyberbullying'])\n",
    "\n",
    "print(\"Bully non-emoji text is\", bully_nonemoji_text)\n",
    "print(\"Non-bully non-emoji text is\", nonbully_nonemoji_text)"
   ]
  },
  {
   "cell_type": "code",
   "execution_count": 15,
   "id": "43e4bb41",
   "metadata": {},
   "outputs": [
    {
     "data": {
      "image/png": "[encoded data removed]",
      "text/plain": [
       "<Figure size 504x360 with 1 Axes>"
      ]
     },
     "metadata": {
      "needs_background": "light"
     },
     "output_type": "display_data"
    }
   ],
   "source": [
    "# Analyze emoji\n",
    "import matplotlib.pyplot as plt\n",
    "import seaborn as sns\n",
    "\n",
    "# function to add value labels\n",
    "def addlabels(x,y):\n",
    "    for i in range(len(x)):\n",
    "        plt.text(i, y[i], y[i], ha = 'center')\n",
    "\n",
    "plt.figure(figsize=(7,5))\n",
    "# ax = sns.countplot(x='type', data=tweeter_df[tweeter_df['type'] != 'not_cyberbullying'])\n",
    "x = ['bully_emoji', 'non-bully_emoji', 'bully_non-emoji', 'non-bully_non-emoji']\n",
    "y = [bully_emoji_text, nonbully_emoji_text, bully_nonemoji_text, nonbully_nonemoji_text]\n",
    "plt.bar(x, y)\n",
    "addlabels(x, y)\n",
    "plt.show()"
   ]
  },
  {
   "cell_type": "code",
   "execution_count": 16,
   "id": "4010f9d4",
   "metadata": {},
   "outputs": [
    {
     "name": "stderr",
     "output_type": "stream",
     "text": [
      "[nltk_data] Downloading package punkt to\n",
      "[nltk_data]     C:\\Users\\apiny\\AppData\\Roaming\\nltk_data...\n",
      "[nltk_data]   Package punkt is already up-to-date!\n",
      "[nltk_data] Downloading package wordnet to\n",
      "[nltk_data]     C:\\Users\\apiny\\AppData\\Roaming\\nltk_data...\n",
      "[nltk_data]   Package wordnet is already up-to-date!\n",
      "[nltk_data] Downloading package omw-1.4 to\n",
      "[nltk_data]     C:\\Users\\apiny\\AppData\\Roaming\\nltk_data...\n",
      "[nltk_data]   Package omw-1.4 is already up-to-date!\n",
      "[nltk_data] Downloading package averaged_perceptron_tagger to\n",
      "[nltk_data]     C:\\Users\\apiny\\AppData\\Roaming\\nltk_data...\n",
      "[nltk_data]   Package averaged_perceptron_tagger is already up-to-\n",
      "[nltk_data]       date!\n"
     ]
    }
   ],
   "source": [
    "######### Text cleansing ##########\n",
    "def remove_emoji(text):\n",
    "    return emoji.replace_emoji(text, '')\n",
    "#     return emoji.demojize(text, delimiters=(' ',' '))\n",
    "\n",
    "# Import regular expression\n",
    "import re\n",
    "# Regular expression to find pattern and process words\n",
    "\n",
    "def remove_URL(text):\n",
    "    return re.sub(r\"((www.[^s]+)|(http\\S+))\",\"\",text)\n",
    "\n",
    "def remove_hashtag(text):\n",
    "    return str(text).replace('#', '')\n",
    "\n",
    "def remove_repeat_space(text):\n",
    "    return re.sub(\"\\s\\s+\", \" \", text)\n",
    "\n",
    "def remove_numeric(text):\n",
    "    return re.sub('[0-9]+', '', text)\n",
    "\n",
    "# Import string library\n",
    "import string\n",
    "\n",
    "# Remove punctuation !\"#$%&'()*+,-./:;<=>?@[\\]^_`{|}~\n",
    "def remove_punctuation(text):\n",
    "#     print(f\"Removing '{string.punctuation}' in text\")\n",
    "    table = str.maketrans('', '', string.punctuation)\n",
    "    return text.translate(table)\n",
    "\n",
    "# Import contractions\n",
    "import contractions\n",
    "\n",
    "def remove_contractions(text):\n",
    "    words = text.split()\n",
    "    return ' '.join([contractions.fix(word) for word in words])\n",
    "\n",
    "############## NLP ################\n",
    "# Import SnowballStemmer and Word Tokenize\n",
    "from nltk.stem.snowball import SnowballStemmer\n",
    "from nltk.tokenize import word_tokenize\n",
    "import nltk\n",
    "from nltk import pos_tag\n",
    "\n",
    "# Stemming - reduce words to their root using Porter2 (snowball stemmer)\n",
    "# ex, \"learning\" and \"learner\" share the root \"learn\"\n",
    "nltk.download('punkt')\n",
    "def stemmer(text):\n",
    "    stemmer = SnowballStemmer(\"english\")\n",
    "    words = word_tokenize(text)\n",
    "    return ' '.join([stemmer.stem(word) for word in words])\n",
    "\n",
    "# Import Lemmatizer\n",
    "from nltk.stem import WordNetLemmatizer\n",
    "\n",
    "# Lemmatizing - reduce words to their core meaning\n",
    "# ex, better => good, rocks => rock\n",
    "nltk.download('wordnet')\n",
    "nltk.download('omw-1.4')\n",
    "nltk.download('averaged_perceptron_tagger')\n",
    "def lemmatizer(text):\n",
    "    lemmatizer = WordNetLemmatizer()\n",
    "    words = word_tokenize(text)\n",
    "    pt = pos_tag(words)\n",
    "    lemmas = []\n",
    "    for word, tag in pt:\n",
    "        wordntag = tag[0].lower()\n",
    "        wordntag = wordntag if wordntag in ['a', 'r', 'n', 'v'] else None\n",
    "        if wordntag:\n",
    "            lemma = lemmatizer.lemmatize(word, wordntag)\n",
    "        else:\n",
    "            lemma = word\n",
    "        lemmas.append(lemma)\n",
    "    return ' '.join(lemmas)\n",
    "\n",
    "# Combine all text cleansing function\n",
    "def text_cleansing(text):\n",
    "    text = remove_emoji(text)\n",
    "    text = remove_URL(text)\n",
    "    text = remove_hashtag(text)\n",
    "    text = remove_repeat_space(text)\n",
    "    text = remove_numeric(text)\n",
    "    text = remove_punctuation(text)\n",
    "    text = remove_contractions(text)\n",
    "    text = stemmer(text)\n",
    "    text = lemmatizer(text)\n",
    "    return text"
   ]
  },
  {
   "cell_type": "code",
   "execution_count": 17,
   "id": "fe26b93d",
   "metadata": {
    "scrolled": true
   },
   "outputs": [],
   "source": [
    "######### Unit test for text cleansing functions ###########\n",
    "def unit_test():\n",
    "    test_text = \"Kids Love😘❤ @ Mohamad Bin Zayed City\"\n",
    "    function_name = 'emojis'\n",
    "    print(f\"Remove {function_name} function test:\")\n",
    "    print(\"============================\")\n",
    "    print(f\"Original text: {test_text}\")\n",
    "    print(f\"Processed text: {remove_emoji(test_text)}\\n\")\n",
    "\n",
    "    test_text = \"Best pick up line? Hi, you're cute... ?: I love how people call James Potter is a bully.- mypatronusisyou: http://tumblr.com/xol3xl14zy\"\n",
    "    function_name = 'URL'\n",
    "    print(f\"Remove {function_name} function test:\")\n",
    "    print(\"============================\")\n",
    "    print(f\"Original text: {test_text}\")\n",
    "    print(f\"Processed text: {remove_URL(test_text)}\\n\")\n",
    "\n",
    "    test_text = \"BULLSHIT!!!! #MKR #MKR2015\"\n",
    "    function_name = 'hashtag'\n",
    "    print(f\"Remove {function_name} function test:\")\n",
    "    print(\"============================\")\n",
    "    print(f\"Original text: {test_text}\")\n",
    "    print(f\"Processed text: {remove_hashtag(test_text)}\\n\")\n",
    "\n",
    "    test_text = \"@ShariRomine @emaleroland @dehneh1   Got it!  I'm learning.\"\n",
    "    function_name = 'repeat spaces'\n",
    "    print(f\"Remove {function_name} function test:\")\n",
    "    print(\"============================\")\n",
    "    print(f\"Original text: {test_text}\")\n",
    "    print(f\"Processed text: {remove_repeat_space(test_text)}\\n\")\n",
    "\n",
    "    test_text = \"@__QN i work monday 2-7, yayyy i get to see you again :) this is more than i saw you at school :O\"\n",
    "    function_name = 'numerics'\n",
    "    print(f\"Remove {function_name} function test:\")\n",
    "    print(\"============================\")\n",
    "    print(f\"Original text: {test_text}\")\n",
    "    print(f\"Processed text: {remove_numeric(test_text)}\\n\")\n",
    "\n",
    "    test_text = \"@__QN i work monday 2-7, yayyy i get to see you again :) this is more than i saw you at school :O\"\n",
    "    function_name = 'punctuation'\n",
    "    print(f\"Remove {function_name} function test:\")\n",
    "    print(\"============================\")\n",
    "    print(f\"Original text: {test_text}\")\n",
    "    print(f\"Processed text: {remove_punctuation(test_text)}\\n\")\n",
    "\n",
    "    test_text = \"Children's childrens' I can't believe people are still surprised that Annie and Lloyd can't cook! #mkr\"\n",
    "    function_name = 'contractions'\n",
    "    print(f\"Remove {function_name} function test:\")\n",
    "    print(\"============================\")\n",
    "    print(f\"Original text: {test_text}\")\n",
    "    print(f\"Processed text: {remove_contractions(test_text)}\\n\")\n",
    "\n",
    "    test_text = \"Today in 1910  Dr. Crippen is convicted at the Old Bailey of poisoning his wife and is subsequently hanged at Pentonville Prison in London.\"\n",
    "    function_name = 'Words stemming'\n",
    "    print(f\"{function_name} function test:\")\n",
    "    print(\"============================\")\n",
    "    print(f\"Original text: {test_text}\")\n",
    "    print(f\"Processed text: {stemmer(test_text)}\\n\")\n",
    "\n",
    "    test_text = \"better Today in 1910  Dr. Crippen is convicted at the Old Bailey of poisoning his wife and is subsequently hanged at Pentonville Prison in London.\"\n",
    "    function_name = 'Words lemmatizing'\n",
    "    print(f\"{function_name} function test:\")\n",
    "    print(\"============================\")\n",
    "    print(f\"Original text: {test_text}\")\n",
    "    print(f\"Processed text: {lemmatizer(test_text)}\\n\")"
   ]
  },
  {
   "cell_type": "code",
   "execution_count": 18,
   "id": "07ccf753",
   "metadata": {},
   "outputs": [
    {
     "name": "stdout",
     "output_type": "stream",
     "text": [
      "Remove emojis function test:\n",
      "============================\n",
      "Original text: Kids Love😘❤ @ Mohamad Bin Zayed City\n",
      "Processed text: Kids Love @ Mohamad Bin Zayed City\n",
      "\n",
      "Remove URL function test:\n",
      "============================\n",
      "Original text: Best pick up line? Hi, you're cute... ?: I love how people call James Potter is a bully.- mypatronusisyou: http://tumblr.com/xol3xl14zy\n",
      "Processed text: Best pick up line? Hi, you're cute... ?: I love how people call James Potter is a bully.- mypatronusisyou: \n",
      "\n",
      "Remove hashtag function test:\n",
      "============================\n",
      "Original text: BULLSHIT!!!! #MKR #MKR2015\n",
      "Processed text: BULLSHIT!!!! MKR MKR2015\n",
      "\n",
      "Remove repeat spaces function test:\n",
      "============================\n",
      "Original text: @ShariRomine @emaleroland @dehneh1   Got it!  I'm learning.\n",
      "Processed text: @ShariRomine @emaleroland @dehneh1 Got it! I'm learning.\n",
      "\n",
      "Remove numerics function test:\n",
      "============================\n",
      "Original text: @__QN i work monday 2-7, yayyy i get to see you again :) this is more than i saw you at school :O\n",
      "Processed text: @__QN i work monday -, yayyy i get to see you again :) this is more than i saw you at school :O\n",
      "\n",
      "Remove punctuation function test:\n",
      "============================\n",
      "Original text: @__QN i work monday 2-7, yayyy i get to see you again :) this is more than i saw you at school :O\n",
      "Processed text: QN i work monday 27 yayyy i get to see you again  this is more than i saw you at school O\n",
      "\n",
      "Remove contractions function test:\n",
      "============================\n",
      "Original text: Children's childrens' I can't believe people are still surprised that Annie and Lloyd can't cook! #mkr\n",
      "Processed text: Children's childrens' I cannot believe people are still surprised that Annie and Lloyd cannot cook! #mkr\n",
      "\n",
      "Words stemming function test:\n",
      "============================\n",
      "Original text: Today in 1910  Dr. Crippen is convicted at the Old Bailey of poisoning his wife and is subsequently hanged at Pentonville Prison in London.\n",
      "Processed text: today in 1910 dr. crippen is convict at the old bailey of poison his wife and is subsequ hang at pentonvill prison in london .\n",
      "\n",
      "Words lemmatizing function test:\n",
      "============================\n",
      "Original text: better Today in 1910  Dr. Crippen is convicted at the Old Bailey of poisoning his wife and is subsequently hanged at Pentonville Prison in London.\n",
      "Processed text: well Today in 1910 Dr. Crippen be convict at the Old Bailey of poison his wife and be subsequently hang at Pentonville Prison in London .\n",
      "\n"
     ]
    }
   ],
   "source": [
    "# Run unit test\n",
    "unit_test()"
   ]
  },
  {
   "cell_type": "code",
   "execution_count": 19,
   "id": "82f58807",
   "metadata": {},
   "outputs": [],
   "source": [
    "# Perform text cleansing for the original text\n",
    "clean_text = []\n",
    "for text in tweeter_df.text:\n",
    "    clean_text.append(text_cleansing(text))"
   ]
  },
  {
   "cell_type": "code",
   "execution_count": 20,
   "id": "924988d2",
   "metadata": {},
   "outputs": [
    {
     "data": {
      "text/html": [
       "<div>\n",
       "<style scoped>\n",
       "    .dataframe tbody tr th:only-of-type {\n",
       "        vertical-align: middle;\n",
       "    }\n",
       "\n",
       "    .dataframe tbody tr th {\n",
       "        vertical-align: top;\n",
       "    }\n",
       "\n",
       "    .dataframe thead th {\n",
       "        text-align: right;\n",
       "    }\n",
       "</style>\n",
       "<table border=\"1\" class=\"dataframe\">\n",
       "  <thead>\n",
       "    <tr style=\"text-align: right;\">\n",
       "      <th></th>\n",
       "      <th>text</th>\n",
       "      <th>type</th>\n",
       "      <th>emojis</th>\n",
       "      <th>emojis_text</th>\n",
       "      <th>clean_text</th>\n",
       "    </tr>\n",
       "  </thead>\n",
       "  <tbody>\n",
       "    <tr>\n",
       "      <th>0</th>\n",
       "      <td>In other words #katandandre, your food was cra...</td>\n",
       "      <td>not_cyberbullying</td>\n",
       "      <td></td>\n",
       "      <td></td>\n",
       "      <td>in other word katandandr your food be crapilic...</td>\n",
       "    </tr>\n",
       "    <tr>\n",
       "      <th>1</th>\n",
       "      <td>Why is #aussietv so white? #MKR #theblock #ImA...</td>\n",
       "      <td>not_cyberbullying</td>\n",
       "      <td></td>\n",
       "      <td></td>\n",
       "      <td>whi be aussietv so white mkr theblock imaceleb...</td>\n",
       "    </tr>\n",
       "    <tr>\n",
       "      <th>2</th>\n",
       "      <td>@XochitlSuckkks a classy whore? Or more red ve...</td>\n",
       "      <td>not_cyberbullying</td>\n",
       "      <td></td>\n",
       "      <td></td>\n",
       "      <td>xochitlsuckkk a classi whore or more red velve...</td>\n",
       "    </tr>\n",
       "    <tr>\n",
       "      <th>3</th>\n",
       "      <td>@Jason_Gio meh. :P  thanks for the heads up, b...</td>\n",
       "      <td>not_cyberbullying</td>\n",
       "      <td></td>\n",
       "      <td></td>\n",
       "      <td>jasongio meh p thank for the head up but not t...</td>\n",
       "    </tr>\n",
       "    <tr>\n",
       "      <th>4</th>\n",
       "      <td>@RudhoeEnglish This is an ISIS account pretend...</td>\n",
       "      <td>not_cyberbullying</td>\n",
       "      <td></td>\n",
       "      <td></td>\n",
       "      <td>rudhoeenglish this be an isi account pretend t...</td>\n",
       "    </tr>\n",
       "  </tbody>\n",
       "</table>\n",
       "</div>"
      ],
      "text/plain": [
       "                                                text               type  \\\n",
       "0  In other words #katandandre, your food was cra...  not_cyberbullying   \n",
       "1  Why is #aussietv so white? #MKR #theblock #ImA...  not_cyberbullying   \n",
       "2  @XochitlSuckkks a classy whore? Or more red ve...  not_cyberbullying   \n",
       "3  @Jason_Gio meh. :P  thanks for the heads up, b...  not_cyberbullying   \n",
       "4  @RudhoeEnglish This is an ISIS account pretend...  not_cyberbullying   \n",
       "\n",
       "  emojis emojis_text                                         clean_text  \n",
       "0                     in other word katandandr your food be crapilic...  \n",
       "1                     whi be aussietv so white mkr theblock imaceleb...  \n",
       "2                     xochitlsuckkk a classi whore or more red velve...  \n",
       "3                     jasongio meh p thank for the head up but not t...  \n",
       "4                     rudhoeenglish this be an isi account pretend t...  "
      ]
     },
     "execution_count": 20,
     "metadata": {},
     "output_type": "execute_result"
    }
   ],
   "source": [
    "# Add new column to the dataframe\n",
    "tweeter_df['clean_text'] = clean_text\n",
    "tweeter_df.head(5)"
   ]
  },
  {
   "cell_type": "code",
   "execution_count": 21,
   "id": "53cfcbae",
   "metadata": {},
   "outputs": [
    {
     "data": {
      "text/plain": [
       "442"
      ]
     },
     "execution_count": 21,
     "metadata": {},
     "output_type": "execute_result"
    }
   ],
   "source": [
    "# Check duplicated text\n",
    "tweeter_df['clean_text'].duplicated().sum()"
   ]
  },
  {
   "cell_type": "code",
   "execution_count": 22,
   "id": "690f0811",
   "metadata": {},
   "outputs": [],
   "source": [
    "# Remove duplicated cleaned text\n",
    "tweeter_df.drop_duplicates('clean_text', inplace=True)"
   ]
  },
  {
   "cell_type": "code",
   "execution_count": 23,
   "id": "e564a001",
   "metadata": {},
   "outputs": [
    {
     "data": {
      "text/html": [
       "<div>\n",
       "<style scoped>\n",
       "    .dataframe tbody tr th:only-of-type {\n",
       "        vertical-align: middle;\n",
       "    }\n",
       "\n",
       "    .dataframe tbody tr th {\n",
       "        vertical-align: top;\n",
       "    }\n",
       "\n",
       "    .dataframe thead th {\n",
       "        text-align: right;\n",
       "    }\n",
       "</style>\n",
       "<table border=\"1\" class=\"dataframe\">\n",
       "  <thead>\n",
       "    <tr style=\"text-align: right;\">\n",
       "      <th></th>\n",
       "      <th>text</th>\n",
       "      <th>type</th>\n",
       "      <th>emojis</th>\n",
       "      <th>emojis_text</th>\n",
       "      <th>clean_text</th>\n",
       "      <th>length</th>\n",
       "    </tr>\n",
       "  </thead>\n",
       "  <tbody>\n",
       "    <tr>\n",
       "      <th>0</th>\n",
       "      <td>In other words #katandandre, your food was cra...</td>\n",
       "      <td>not_cyberbullying</td>\n",
       "      <td></td>\n",
       "      <td></td>\n",
       "      <td>in other word katandandr your food be crapilic...</td>\n",
       "      <td>9</td>\n",
       "    </tr>\n",
       "    <tr>\n",
       "      <th>1</th>\n",
       "      <td>Why is #aussietv so white? #MKR #theblock #ImA...</td>\n",
       "      <td>not_cyberbullying</td>\n",
       "      <td></td>\n",
       "      <td></td>\n",
       "      <td>whi be aussietv so white mkr theblock imaceleb...</td>\n",
       "      <td>14</td>\n",
       "    </tr>\n",
       "    <tr>\n",
       "      <th>2</th>\n",
       "      <td>@XochitlSuckkks a classy whore? Or more red ve...</td>\n",
       "      <td>not_cyberbullying</td>\n",
       "      <td></td>\n",
       "      <td></td>\n",
       "      <td>xochitlsuckkk a classi whore or more red velve...</td>\n",
       "      <td>9</td>\n",
       "    </tr>\n",
       "    <tr>\n",
       "      <th>3</th>\n",
       "      <td>@Jason_Gio meh. :P  thanks for the heads up, b...</td>\n",
       "      <td>not_cyberbullying</td>\n",
       "      <td></td>\n",
       "      <td></td>\n",
       "      <td>jasongio meh p thank for the head up but not t...</td>\n",
       "      <td>18</td>\n",
       "    </tr>\n",
       "    <tr>\n",
       "      <th>4</th>\n",
       "      <td>@RudhoeEnglish This is an ISIS account pretend...</td>\n",
       "      <td>not_cyberbullying</td>\n",
       "      <td></td>\n",
       "      <td></td>\n",
       "      <td>rudhoeenglish this be an isi account pretend t...</td>\n",
       "      <td>18</td>\n",
       "    </tr>\n",
       "  </tbody>\n",
       "</table>\n",
       "</div>"
      ],
      "text/plain": [
       "                                                text               type  \\\n",
       "0  In other words #katandandre, your food was cra...  not_cyberbullying   \n",
       "1  Why is #aussietv so white? #MKR #theblock #ImA...  not_cyberbullying   \n",
       "2  @XochitlSuckkks a classy whore? Or more red ve...  not_cyberbullying   \n",
       "3  @Jason_Gio meh. :P  thanks for the heads up, b...  not_cyberbullying   \n",
       "4  @RudhoeEnglish This is an ISIS account pretend...  not_cyberbullying   \n",
       "\n",
       "  emojis emojis_text                                         clean_text  \\\n",
       "0                     in other word katandandr your food be crapilic...   \n",
       "1                     whi be aussietv so white mkr theblock imaceleb...   \n",
       "2                     xochitlsuckkk a classi whore or more red velve...   \n",
       "3                     jasongio meh p thank for the head up but not t...   \n",
       "4                     rudhoeenglish this be an isi account pretend t...   \n",
       "\n",
       "   length  \n",
       "0       9  \n",
       "1      14  \n",
       "2       9  \n",
       "3      18  \n",
       "4      18  "
      ]
     },
     "execution_count": 23,
     "metadata": {},
     "output_type": "execute_result"
    }
   ],
   "source": [
    "# Add text length column to the dataframe\n",
    "length = []\n",
    "\n",
    "for text in tweeter_df.clean_text:\n",
    "    text_len = len(text.split())\n",
    "    length.append(text_len)\n",
    "    \n",
    "tweeter_df['length'] = length\n",
    "\n",
    "tweeter_df.head()"
   ]
  },
  {
   "cell_type": "code",
   "execution_count": 24,
   "id": "5c926870",
   "metadata": {},
   "outputs": [
    {
     "name": "stdout",
     "output_type": "stream",
     "text": [
      "Maximun text length is 327\n",
      "Minimum text length is 0\n",
      "Average text lenth is 26\n"
     ]
    }
   ],
   "source": [
    "# Analysis text length\n",
    "print(\"Maximun text length is\", tweeter_df['length'].max())\n",
    "print(\"Minimum text length is\", tweeter_df['length'].min())\n",
    "print(\"Average text lenth is\", int(tweeter_df['length'].mean()))"
   ]
  },
  {
   "cell_type": "code",
   "execution_count": 44,
   "id": "049fcd39",
   "metadata": {},
   "outputs": [
    {
     "name": "stdout",
     "output_type": "stream",
     "text": [
      "Maximun text length is 327\n",
      "Minimum text length is 3\n",
      "Average text lenth is 26\n"
     ]
    }
   ],
   "source": [
    "# Remove text with lenght < 3 words\n",
    "tweeter_df = tweeter_df[tweeter_df['length'] > 2]\n",
    "\n",
    "print(\"Maximun text length is\", tweeter_df['length'].max())\n",
    "print(\"Minimum text length is\", tweeter_df['length'].min())\n",
    "print(\"Average text lenth is\", int(tweeter_df['length'].mean()))"
   ]
  },
  {
   "cell_type": "code",
   "execution_count": 45,
   "id": "f77f8309",
   "metadata": {},
   "outputs": [
    {
     "name": "stdout",
     "output_type": "stream",
     "text": [
      "Removing outlier from column: length\n",
      "Number of records before outliners removing: 39060\n",
      "Number of records after outliners removing: 39047 \n",
      "\n"
     ]
    },
    {
     "data": {
      "text/html": [
       "<div>\n",
       "<style scoped>\n",
       "    .dataframe tbody tr th:only-of-type {\n",
       "        vertical-align: middle;\n",
       "    }\n",
       "\n",
       "    .dataframe tbody tr th {\n",
       "        vertical-align: top;\n",
       "    }\n",
       "\n",
       "    .dataframe thead th {\n",
       "        text-align: right;\n",
       "    }\n",
       "</style>\n",
       "<table border=\"1\" class=\"dataframe\">\n",
       "  <thead>\n",
       "    <tr style=\"text-align: right;\">\n",
       "      <th></th>\n",
       "      <th>text</th>\n",
       "      <th>type</th>\n",
       "      <th>emojis</th>\n",
       "      <th>emojis_text</th>\n",
       "      <th>clean_text</th>\n",
       "      <th>length</th>\n",
       "      <th>encoded_type</th>\n",
       "    </tr>\n",
       "  </thead>\n",
       "  <tbody>\n",
       "    <tr>\n",
       "      <th>0</th>\n",
       "      <td>In other words #katandandre, your food was cra...</td>\n",
       "      <td>not_cyberbullying</td>\n",
       "      <td></td>\n",
       "      <td></td>\n",
       "      <td>in other word katandandr your food be crapilic...</td>\n",
       "      <td>9</td>\n",
       "      <td>3</td>\n",
       "    </tr>\n",
       "    <tr>\n",
       "      <th>1</th>\n",
       "      <td>Why is #aussietv so white? #MKR #theblock #ImA...</td>\n",
       "      <td>not_cyberbullying</td>\n",
       "      <td></td>\n",
       "      <td></td>\n",
       "      <td>whi be aussietv so white mkr theblock imaceleb...</td>\n",
       "      <td>14</td>\n",
       "      <td>3</td>\n",
       "    </tr>\n",
       "    <tr>\n",
       "      <th>2</th>\n",
       "      <td>@XochitlSuckkks a classy whore? Or more red ve...</td>\n",
       "      <td>not_cyberbullying</td>\n",
       "      <td></td>\n",
       "      <td></td>\n",
       "      <td>xochitlsuckkk a classi whore or more red velve...</td>\n",
       "      <td>9</td>\n",
       "      <td>3</td>\n",
       "    </tr>\n",
       "    <tr>\n",
       "      <th>3</th>\n",
       "      <td>@Jason_Gio meh. :P  thanks for the heads up, b...</td>\n",
       "      <td>not_cyberbullying</td>\n",
       "      <td></td>\n",
       "      <td></td>\n",
       "      <td>jasongio meh p thank for the head up but not t...</td>\n",
       "      <td>18</td>\n",
       "      <td>3</td>\n",
       "    </tr>\n",
       "    <tr>\n",
       "      <th>4</th>\n",
       "      <td>@RudhoeEnglish This is an ISIS account pretend...</td>\n",
       "      <td>not_cyberbullying</td>\n",
       "      <td></td>\n",
       "      <td></td>\n",
       "      <td>rudhoeenglish this be an isi account pretend t...</td>\n",
       "      <td>18</td>\n",
       "      <td>3</td>\n",
       "    </tr>\n",
       "  </tbody>\n",
       "</table>\n",
       "</div>"
      ],
      "text/plain": [
       "                                                text               type  \\\n",
       "0  In other words #katandandre, your food was cra...  not_cyberbullying   \n",
       "1  Why is #aussietv so white? #MKR #theblock #ImA...  not_cyberbullying   \n",
       "2  @XochitlSuckkks a classy whore? Or more red ve...  not_cyberbullying   \n",
       "3  @Jason_Gio meh. :P  thanks for the heads up, b...  not_cyberbullying   \n",
       "4  @RudhoeEnglish This is an ISIS account pretend...  not_cyberbullying   \n",
       "\n",
       "  emojis emojis_text                                         clean_text  \\\n",
       "0                     in other word katandandr your food be crapilic...   \n",
       "1                     whi be aussietv so white mkr theblock imaceleb...   \n",
       "2                     xochitlsuckkk a classi whore or more red velve...   \n",
       "3                     jasongio meh p thank for the head up but not t...   \n",
       "4                     rudhoeenglish this be an isi account pretend t...   \n",
       "\n",
       "   length  encoded_type  \n",
       "0       9             3  \n",
       "1      14             3  \n",
       "2       9             3  \n",
       "3      18             3  \n",
       "4      18             3  "
      ]
     },
     "execution_count": 45,
     "metadata": {},
     "output_type": "execute_result"
    }
   ],
   "source": [
    "# Remove text with length outside 99% of standard deviation\n",
    "\n",
    "def remove_outliner(dataframe, column):\n",
    "    print(\"Removing outlier from column: \" + column)\n",
    "    print(\"Number of records before outliners removing:\", dataframe.shape[0])\n",
    "    \n",
    "    col_mean = dataframe[column].mean()\n",
    "    col_std = dataframe[column].std()\n",
    "    \n",
    "    ninety_nine_percent = (dataframe[column].isnull()) | \\\n",
    "        ((dataframe[column] < col_mean + 3 * col_std) & \\\n",
    "        (dataframe[column] > col_mean - 3 * col_std))\n",
    "    dataframe = dataframe.loc[ninety_nine_percent,:]\n",
    "    \n",
    "    print(\"Number of records after outliners removing:\", dataframe.shape[0],\"\\n\")\n",
    "    return dataframe\n",
    "\n",
    "for col in ['length']:\n",
    "    tweeter_df = remove_outliner(tweeter_df, col)\n",
    "\n",
    "# Remove text with lenght > 100 words\n",
    "# tweeter_df = tweeter_df[tweeter_df['length'] < 101]\n",
    "    \n",
    "tweeter_df.head()"
   ]
  },
  {
   "cell_type": "code",
   "execution_count": 46,
   "id": "d8794a89",
   "metadata": {},
   "outputs": [
    {
     "name": "stdout",
     "output_type": "stream",
     "text": [
      "Maximun text length is 69\n",
      "Minimum text length is 3\n",
      "Average text lenth is 26\n"
     ]
    }
   ],
   "source": [
    "# Analysis text length\n",
    "print(\"Maximun text length is\", tweeter_df['length'].max())\n",
    "print(\"Minimum text length is\", tweeter_df['length'].min())\n",
    "print(\"Average text lenth is\", int(tweeter_df['length'].mean()))"
   ]
  },
  {
   "cell_type": "code",
   "execution_count": 47,
   "id": "bc3bc710",
   "metadata": {},
   "outputs": [],
   "source": [
    "# Encoding the labels for type\n",
    "from sklearn.preprocessing import LabelEncoder\n",
    "\n",
    "labelencoder = LabelEncoder()\n",
    "\n",
    "# Add new encoded labels column for types\n",
    "tweeter_df['encoded_type'] = labelencoder.fit_transform(tweeter_df['type'])"
   ]
  },
  {
   "cell_type": "code",
   "execution_count": 48,
   "id": "81ef0a5b",
   "metadata": {},
   "outputs": [
    {
     "data": {
      "text/plain": [
       "type               encoded_type\n",
       "religion           4               7966\n",
       "age                0               7929\n",
       "ethnicity          1               7895\n",
       "gender             2               7669\n",
       "not_cyberbullying  3               7588\n",
       "dtype: int64"
      ]
     },
     "execution_count": 48,
     "metadata": {},
     "output_type": "execute_result"
    }
   ],
   "source": [
    "# Print new column\n",
    "tweeter_df[['type', 'encoded_type']].value_counts()"
   ]
  },
  {
   "cell_type": "code",
   "execution_count": 49,
   "id": "bd50fe27",
   "metadata": {},
   "outputs": [
    {
     "data": {
      "text/html": [
       "<div>\n",
       "<style scoped>\n",
       "    .dataframe tbody tr th:only-of-type {\n",
       "        vertical-align: middle;\n",
       "    }\n",
       "\n",
       "    .dataframe tbody tr th {\n",
       "        vertical-align: top;\n",
       "    }\n",
       "\n",
       "    .dataframe thead th {\n",
       "        text-align: right;\n",
       "    }\n",
       "</style>\n",
       "<table border=\"1\" class=\"dataframe\">\n",
       "  <thead>\n",
       "    <tr style=\"text-align: right;\">\n",
       "      <th></th>\n",
       "      <th>text</th>\n",
       "      <th>type</th>\n",
       "      <th>emojis</th>\n",
       "      <th>emojis_text</th>\n",
       "      <th>clean_text</th>\n",
       "      <th>length</th>\n",
       "      <th>encoded_type</th>\n",
       "    </tr>\n",
       "  </thead>\n",
       "  <tbody>\n",
       "    <tr>\n",
       "      <th>0</th>\n",
       "      <td>In other words #katandandre, your food was cra...</td>\n",
       "      <td>not_cyberbullying</td>\n",
       "      <td></td>\n",
       "      <td></td>\n",
       "      <td>in other word katandandr your food be crapilic...</td>\n",
       "      <td>9</td>\n",
       "      <td>3</td>\n",
       "    </tr>\n",
       "    <tr>\n",
       "      <th>1</th>\n",
       "      <td>Why is #aussietv so white? #MKR #theblock #ImA...</td>\n",
       "      <td>not_cyberbullying</td>\n",
       "      <td></td>\n",
       "      <td></td>\n",
       "      <td>whi be aussietv so white mkr theblock imaceleb...</td>\n",
       "      <td>14</td>\n",
       "      <td>3</td>\n",
       "    </tr>\n",
       "    <tr>\n",
       "      <th>2</th>\n",
       "      <td>@XochitlSuckkks a classy whore? Or more red ve...</td>\n",
       "      <td>not_cyberbullying</td>\n",
       "      <td></td>\n",
       "      <td></td>\n",
       "      <td>xochitlsuckkk a classi whore or more red velve...</td>\n",
       "      <td>9</td>\n",
       "      <td>3</td>\n",
       "    </tr>\n",
       "    <tr>\n",
       "      <th>3</th>\n",
       "      <td>@Jason_Gio meh. :P  thanks for the heads up, b...</td>\n",
       "      <td>not_cyberbullying</td>\n",
       "      <td></td>\n",
       "      <td></td>\n",
       "      <td>jasongio meh p thank for the head up but not t...</td>\n",
       "      <td>18</td>\n",
       "      <td>3</td>\n",
       "    </tr>\n",
       "    <tr>\n",
       "      <th>4</th>\n",
       "      <td>@RudhoeEnglish This is an ISIS account pretend...</td>\n",
       "      <td>not_cyberbullying</td>\n",
       "      <td></td>\n",
       "      <td></td>\n",
       "      <td>rudhoeenglish this be an isi account pretend t...</td>\n",
       "      <td>18</td>\n",
       "      <td>3</td>\n",
       "    </tr>\n",
       "  </tbody>\n",
       "</table>\n",
       "</div>"
      ],
      "text/plain": [
       "                                                text               type  \\\n",
       "0  In other words #katandandre, your food was cra...  not_cyberbullying   \n",
       "1  Why is #aussietv so white? #MKR #theblock #ImA...  not_cyberbullying   \n",
       "2  @XochitlSuckkks a classy whore? Or more red ve...  not_cyberbullying   \n",
       "3  @Jason_Gio meh. :P  thanks for the heads up, b...  not_cyberbullying   \n",
       "4  @RudhoeEnglish This is an ISIS account pretend...  not_cyberbullying   \n",
       "\n",
       "  emojis emojis_text                                         clean_text  \\\n",
       "0                     in other word katandandr your food be crapilic...   \n",
       "1                     whi be aussietv so white mkr theblock imaceleb...   \n",
       "2                     xochitlsuckkk a classi whore or more red velve...   \n",
       "3                     jasongio meh p thank for the head up but not t...   \n",
       "4                     rudhoeenglish this be an isi account pretend t...   \n",
       "\n",
       "   length  encoded_type  \n",
       "0       9             3  \n",
       "1      14             3  \n",
       "2       9             3  \n",
       "3      18             3  \n",
       "4      18             3  "
      ]
     },
     "execution_count": 49,
     "metadata": {},
     "output_type": "execute_result"
    }
   ],
   "source": [
    "tweeter_df.head()"
   ]
  },
  {
   "cell_type": "code",
   "execution_count": 50,
   "id": "16c98dc6",
   "metadata": {},
   "outputs": [],
   "source": [
    "# Identify predictor and target features\n",
    "X = tweeter_df['clean_text']\n",
    "y = tweeter_df['encoded_type']"
   ]
  },
  {
   "cell_type": "code",
   "execution_count": 51,
   "id": "1c3e9355",
   "metadata": {},
   "outputs": [],
   "source": [
    "# Import train_test_split\n",
    "from sklearn.model_selection import train_test_split\n",
    "\n",
    "# Identify train and test split\n",
    "X_train, X_test, y_train, y_test = train_test_split(X, y, test_size=0.15, random_state=50, stratify=y)\n",
    "# X_train, X_test, y_train, y_test = train_test_split(X, y, test_size=0.1, random_state=50)"
   ]
  },
  {
   "cell_type": "code",
   "execution_count": 52,
   "id": "d0322f10",
   "metadata": {},
   "outputs": [
    {
     "data": {
      "text/plain": [
       "36366    0\n",
       "33141    0\n",
       "32518    0\n",
       "9628     2\n",
       "41104    1\n",
       "        ..\n",
       "2391     3\n",
       "16417    4\n",
       "42312    1\n",
       "42469    1\n",
       "1664     3\n",
       "Name: encoded_type, Length: 33189, dtype: int32"
      ]
     },
     "execution_count": 52,
     "metadata": {},
     "output_type": "execute_result"
    }
   ],
   "source": [
    "y_train"
   ]
  },
  {
   "cell_type": "code",
   "execution_count": 53,
   "id": "d5dcba50",
   "metadata": {},
   "outputs": [
    {
     "data": {
      "text/plain": [
       "[Text(0.5, 0, 'encoded_type'), Text(0, 0.5, 'y_train_count')]"
      ]
     },
     "execution_count": 53,
     "metadata": {},
     "output_type": "execute_result"
    },
    {
     "data": {
      "image/png": "[encoded data removed]",
      "text/plain": [
       "<Figure size 432x288 with 1 Axes>"
      ]
     },
     "metadata": {
      "needs_background": "light"
     },
     "output_type": "display_data"
    }
   ],
   "source": [
    "# Imbalance check\n",
    "plot_data = y_train.value_counts().reset_index()\n",
    "ax = sns.barplot(x = 'index', y = 'encoded_type', data = plot_data, palette = \"muted\")\n",
    "ax.bar_label(ax.containers[0])\n",
    "ax.set(xlabel = 'encoded_type', ylabel = 'y_train_count')"
   ]
  },
  {
   "cell_type": "code",
   "execution_count": 54,
   "id": "52015171",
   "metadata": {},
   "outputs": [
    {
     "name": "stdout",
     "output_type": "stream",
     "text": [
      "<class 'pandas.core.series.Series'>\n",
      "<class 'pandas.core.series.Series'>\n"
     ]
    }
   ],
   "source": [
    "print(type(X_train))\n",
    "print(type(y_train))"
   ]
  },
  {
   "cell_type": "code",
   "execution_count": 55,
   "id": "97a5298b",
   "metadata": {},
   "outputs": [
    {
     "data": {
      "text/plain": [
       "pandas.core.series.Series"
      ]
     },
     "execution_count": 55,
     "metadata": {},
     "output_type": "execute_result"
    }
   ],
   "source": [
    "# Import RandomOverSampler\n",
    "from imblearn.over_sampling import RandomOverSampler\n",
    "import numpy as np\n",
    "\n",
    "# Oversampling the training set\n",
    "oversample = RandomOverSampler()\n",
    "# X_train, y_train = oversample.fit_resample(X_train, y_train)\n",
    "X_train, y_train = oversample.fit_resample(np.array(X_train).reshape(-1,1), np.array(y_train).reshape(-1,1))\n",
    "train_oversample = pd.DataFrame(list(zip([x[0] for x in X_train], y_train)), columns = ['clean_text', 'encoded_type'])\n",
    "\n",
    "X_train = pd.Series(train_oversample['clean_text'])\n",
    "y_train = pd.Series(train_oversample['encoded_type'])\n",
    "\n",
    "type(y_train)"
   ]
  },
  {
   "cell_type": "code",
   "execution_count": 56,
   "id": "bc48966a",
   "metadata": {
    "scrolled": true
   },
   "outputs": [
    {
     "data": {
      "text/plain": [
       "[Text(0.5, 0, 'encoded_type'), Text(0, 0.5, 'y_train_count')]"
      ]
     },
     "execution_count": 56,
     "metadata": {},
     "output_type": "execute_result"
    },
    {
     "data": {
      "image/png": "[encoded data removed]",
      "text/plain": [
       "<Figure size 432x288 with 1 Axes>"
      ]
     },
     "metadata": {
      "needs_background": "light"
     },
     "output_type": "display_data"
    }
   ],
   "source": [
    "# Imbalance check\n",
    "plot_data = y_train.value_counts().reset_index()\n",
    "ax = sns.barplot(x = 'index', y = 'encoded_type', data = plot_data, palette = \"muted\")\n",
    "ax.bar_label(ax.containers[0])\n",
    "ax.set(xlabel = 'encoded_type', ylabel = 'y_train_count')"
   ]
  },
  {
   "cell_type": "code",
   "execution_count": 57,
   "id": "0ba4b9f6",
   "metadata": {},
   "outputs": [],
   "source": [
    "################### Naive Bays ####################\n",
    "# Import CountVectorizere\n",
    "from sklearn.feature_extraction.text import CountVectorizer\n",
    "\n",
    "countvector = CountVectorizer()\n",
    "X_train_cv = countvector.fit_transform(X_train)\n",
    "X_test_cv = countvector.transform(X_test)\n",
    "\n",
    "# print(X_train_cv)"
   ]
  },
  {
   "cell_type": "code",
   "execution_count": 58,
   "id": "90ebc394",
   "metadata": {},
   "outputs": [],
   "source": [
    "# Import TfidfTransform\n",
    "# Tfidf stands for term-frequency times inverse document-frequency.\n",
    "from sklearn.feature_extraction.text import TfidfTransformer\n",
    "\n",
    "tfidf_transformer = TfidfTransformer(use_idf = True).fit(X_train_cv)\n",
    "X_train_tf = tfidf_transformer.transform(X_train_cv)\n",
    "X_test_tf = tfidf_transformer.transform(X_test_cv)"
   ]
  },
  {
   "cell_type": "code",
   "execution_count": 59,
   "id": "a00631c2",
   "metadata": {},
   "outputs": [
    {
     "data": {
      "text/html": [
       "<style>#sk-container-id-2 {color: black;background-color: white;}#sk-container-id-2 pre{padding: 0;}#sk-container-id-2 div.sk-toggleable {background-color: white;}#sk-container-id-2 label.sk-toggleable__label {cursor: pointer;display: block;width: 100%;margin-bottom: 0;padding: 0.3em;box-sizing: border-box;text-align: center;}#sk-container-id-2 label.sk-toggleable__label-arrow:before {content: \"▸\";float: left;margin-right: 0.25em;color: #696969;}#sk-container-id-2 label.sk-toggleable__label-arrow:hover:before {color: black;}#sk-container-id-2 div.sk-estimator:hover label.sk-toggleable__label-arrow:before {color: black;}#sk-container-id-2 div.sk-toggleable__content {max-height: 0;max-width: 0;overflow: hidden;text-align: left;background-color: #f0f8ff;}#sk-container-id-2 div.sk-toggleable__content pre {margin: 0.2em;color: black;border-radius: 0.25em;background-color: #f0f8ff;}#sk-container-id-2 input.sk-toggleable__control:checked~div.sk-toggleable__content {max-height: 200px;max-width: 100%;overflow: auto;}#sk-container-id-2 input.sk-toggleable__control:checked~label.sk-toggleable__label-arrow:before {content: \"▾\";}#sk-container-id-2 div.sk-estimator input.sk-toggleable__control:checked~label.sk-toggleable__label {background-color: #d4ebff;}#sk-container-id-2 div.sk-label input.sk-toggleable__control:checked~label.sk-toggleable__label {background-color: #d4ebff;}#sk-container-id-2 input.sk-hidden--visually {border: 0;clip: rect(1px 1px 1px 1px);clip: rect(1px, 1px, 1px, 1px);height: 1px;margin: -1px;overflow: hidden;padding: 0;position: absolute;width: 1px;}#sk-container-id-2 div.sk-estimator {font-family: monospace;background-color: #f0f8ff;border: 1px dotted black;border-radius: 0.25em;box-sizing: border-box;margin-bottom: 0.5em;}#sk-container-id-2 div.sk-estimator:hover {background-color: #d4ebff;}#sk-container-id-2 div.sk-parallel-item::after {content: \"\";width: 100%;border-bottom: 1px solid gray;flex-grow: 1;}#sk-container-id-2 div.sk-label:hover label.sk-toggleable__label {background-color: #d4ebff;}#sk-container-id-2 div.sk-serial::before {content: \"\";position: absolute;border-left: 1px solid gray;box-sizing: border-box;top: 0;bottom: 0;left: 50%;z-index: 0;}#sk-container-id-2 div.sk-serial {display: flex;flex-direction: column;align-items: center;background-color: white;padding-right: 0.2em;padding-left: 0.2em;position: relative;}#sk-container-id-2 div.sk-item {position: relative;z-index: 1;}#sk-container-id-2 div.sk-parallel {display: flex;align-items: stretch;justify-content: center;background-color: white;position: relative;}#sk-container-id-2 div.sk-item::before, #sk-container-id-2 div.sk-parallel-item::before {content: \"\";position: absolute;border-left: 1px solid gray;box-sizing: border-box;top: 0;bottom: 0;left: 50%;z-index: -1;}#sk-container-id-2 div.sk-parallel-item {display: flex;flex-direction: column;z-index: 1;position: relative;background-color: white;}#sk-container-id-2 div.sk-parallel-item:first-child::after {align-self: flex-end;width: 50%;}#sk-container-id-2 div.sk-parallel-item:last-child::after {align-self: flex-start;width: 50%;}#sk-container-id-2 div.sk-parallel-item:only-child::after {width: 0;}#sk-container-id-2 div.sk-dashed-wrapped {border: 1px dashed gray;margin: 0 0.4em 0.5em 0.4em;box-sizing: border-box;padding-bottom: 0.4em;background-color: white;}#sk-container-id-2 div.sk-label label {font-family: monospace;font-weight: bold;display: inline-block;line-height: 1.2em;}#sk-container-id-2 div.sk-label-container {text-align: center;}#sk-container-id-2 div.sk-container {/* jupyter's `normalize.less` sets `[hidden] { display: none; }` but bootstrap.min.css set `[hidden] { display: none !important; }` so we also need the `!important` here to be able to override the default hidden behavior on the sphinx rendered scikit-learn.org. See: https://github.com/scikit-learn/scikit-learn/issues/21755 */display: inline-block !important;position: relative;}#sk-container-id-2 div.sk-text-repr-fallback {display: none;}</style><div id=\"sk-container-id-2\" class=\"sk-top-container\"><div class=\"sk-text-repr-fallback\"><pre>MultinomialNB()</pre><b>In a Jupyter environment, please rerun this cell to show the HTML representation or trust the notebook. <br />On GitHub, the HTML representation is unable to render, please try loading this page with nbviewer.org.</b></div><div class=\"sk-container\" hidden><div class=\"sk-item\"><div class=\"sk-estimator sk-toggleable\"><input class=\"sk-toggleable__control sk-hidden--visually\" id=\"sk-estimator-id-2\" type=\"checkbox\" checked><label for=\"sk-estimator-id-2\" class=\"sk-toggleable__label sk-toggleable__label-arrow\">MultinomialNB</label><div class=\"sk-toggleable__content\"><pre>MultinomialNB()</pre></div></div></div></div></div>"
      ],
      "text/plain": [
       "MultinomialNB()"
      ]
     },
     "execution_count": 59,
     "metadata": {},
     "output_type": "execute_result"
    }
   ],
   "source": [
    "# Inport Multinomial Naive Bayes\n",
    "from sklearn.naive_bayes import MultinomialNB\n",
    "\n",
    "nb_multic_lm = MultinomialNB()\n",
    "nb_multic_lm.fit(X_train_tf, y_train)"
   ]
  },
  {
   "cell_type": "code",
   "execution_count": 60,
   "id": "cb900301",
   "metadata": {},
   "outputs": [],
   "source": [
    "# Predict the training data\n",
    "nb_train_pred = nb_multic_lm.predict(X_train_tf)\n",
    "type(nb_train_pred)\n",
    "\n",
    "# Predict the test data\n",
    "nb_test_pred = nb_multic_lm.predict(X_test_tf)"
   ]
  },
  {
   "cell_type": "code",
   "execution_count": 61,
   "id": "d9f811c0",
   "metadata": {},
   "outputs": [
    {
     "name": "stdout",
     "output_type": "stream",
     "text": [
      "Classification Report for train data:\n",
      "===================================\n",
      "\n",
      "                   precision    recall  f1-score   support\n",
      "\n",
      "              age       0.78      0.99      0.87      6771\n",
      "        ethnicity       0.95      0.90      0.92      6771\n",
      "           gender       0.93      0.92      0.92      6771\n",
      "not_cyberbullying       0.95      0.60      0.73      6771\n",
      "         religion       0.85      0.98      0.91      6771\n",
      "\n",
      "         accuracy                           0.88     33855\n",
      "        macro avg       0.89      0.88      0.87     33855\n",
      "     weighted avg       0.89      0.88      0.87     33855\n",
      "\n",
      "\n",
      "\n",
      "Classification Report for test data:\n",
      "===================================\n",
      "\n",
      "                   precision    recall  f1-score   support\n",
      "\n",
      "              age       0.70      0.99      0.82      1190\n",
      "        ethnicity       0.90      0.85      0.87      1184\n",
      "           gender       0.88      0.87      0.88      1151\n",
      "not_cyberbullying       0.91      0.40      0.56      1138\n",
      "         religion       0.82      0.97      0.89      1195\n",
      "\n",
      "         accuracy                           0.82      5858\n",
      "        macro avg       0.84      0.82      0.80      5858\n",
      "     weighted avg       0.84      0.82      0.80      5858\n",
      "\n",
      "\n"
     ]
    }
   ],
   "source": [
    "# Evaluation\n",
    "# Import classification_report\n",
    "from sklearn.metrics import classification_report\n",
    "\n",
    "map_types = ['age', 'ethnicity', 'gender', 'not_cyberbullying', 'religion']\n",
    "print(\"Classification Report for train data:\\n===================================\\n\") \n",
    "print(f\"{classification_report(y_train, nb_train_pred, target_names = map_types)}\\n\\n\")\n",
    "\n",
    "print(\"Classification Report for test data:\\n===================================\\n\") \n",
    "print(f\"{classification_report(y_test, nb_test_pred, target_names = map_types)}\\n\")"
   ]
  },
  {
   "cell_type": "code",
   "execution_count": 222,
   "id": "1588c93d",
   "metadata": {},
   "outputs": [],
   "source": [
    "# Prediction function from the model\n",
    "def get_predicted_result(api_text):\n",
    "    X_test_api = pd.Series({'clean_text': api_text})\n",
    "    X_test_api = countvector.transform(X_test_api)\n",
    "    X_test_api = tfidf_transformer.transform(X_test_api)\n",
    "    \n",
    "    return nb_multic_lm.predict(X_test_api)\n",
    "\n",
    "def is_bully(api_text):    \n",
    "    y_api_pred = get_predicted_result(api_text)\n",
    "    \n",
    "    if map_types[y_api_pred[0]] != 'not_cyberbullying':\n",
    "        return 'Yes'\n",
    "    else:\n",
    "        return 'No'\n",
    "    \n",
    "def get_bully_type(api_text):\n",
    "    y_api_pred = get_predicted_result(api_text)\n",
    "    return map_types[y_api_pred[0]]"
   ]
  },
  {
   "cell_type": "code",
   "execution_count": 223,
   "id": "d6824af2",
   "metadata": {},
   "outputs": [
    {
     "name": "stdout",
     "output_type": "stream",
     "text": [
      "Is text 1 'MU is bad' bully? => Yes\n",
      "Text 1 'MU is bad' bully type is age\n",
      "\n",
      "Is text 2 'You are so gay' bully? => Yes\n",
      "Text 2 'You are so gay' bully type is gender\n",
      "\n",
      "Is text 3 'Kids go home' bully? => No\n",
      "Text 3 'Kids go home' bully type is not_cyberbullying\n",
      "\n",
      "Is text 4 'You are stupid' bully? => Yes\n",
      "Text 4 'You are stupid' bully type is ethnicity\n",
      "\n",
      "Is text 5 'see you tomorrow' bully? => No\n",
      "Text 5 'see you tomorrow' bully type is not_cyberbullying\n",
      "\n"
     ]
    }
   ],
   "source": [
    "# Example text from api prediction\n",
    "api_text_1 = \"MU is bad\"\n",
    "print(f\"Is text 1 '{api_text_1}' bully? => {is_bully(api_text_1)}\")\n",
    "print(f\"Text 1 '{api_text_1}' bully type is {get_bully_type(api_text_1)}\\n\")\n",
    "\n",
    "api_text_2 = \"You are so gay\"\n",
    "print(f\"Is text 2 '{api_text_2}' bully? => {is_bully(api_text_2)}\")\n",
    "print(f\"Text 2 '{api_text_2}' bully type is {get_bully_type(api_text_2)}\\n\")\n",
    "\n",
    "api_text_3 = \"Kids go home\"\n",
    "print(f\"Is text 3 '{api_text_3}' bully? => {is_bully(api_text_3)}\")\n",
    "print(f\"Text 3 '{api_text_3}' bully type is {get_bully_type(api_text_3)}\\n\")\n",
    "\n",
    "api_text_4 = \"You are stupid\"\n",
    "print(f\"Is text 4 '{api_text_4}' bully? => {is_bully(api_text_4)}\")\n",
    "print(f\"Text 4 '{api_text_4}' bully type is {get_bully_type(api_text_4)}\\n\")\n",
    "\n",
    "api_text_5 = \"see you tomorrow\"\n",
    "print(f\"Is text 5 '{api_text_5}' bully? => {is_bully(api_text_5)}\")\n",
    "print(f\"Text 5 '{api_text_5}' bully type is {get_bully_type(api_text_5)}\\n\")"
   ]
  },
  {
   "cell_type": "code",
   "execution_count": 224,
   "id": "50187f29",
   "metadata": {},
   "outputs": [],
   "source": [
    "# Save model to file\n",
    "# import module\n",
    "import pickle\n",
    "\n",
    "filename = 'cyberbullying_model.sav'\n",
    "pickle.dump(nb_multic_lm, open(filename, 'wb'))\n",
    "\n",
    "countvector_file = 'countvector.sav'\n",
    "pickle.dump(countvector, open(countvector_file, 'wb'))\n",
    "\n",
    "tfidf_transformer_file = 'tfidf_transformer.sav'\n",
    "pickle.dump(tfidf_transformer, open(tfidf_transformer_file, 'wb'))"
   ]
  },
  {
   "cell_type": "code",
   "execution_count": null,
   "id": "25ca00bb",
   "metadata": {},
   "outputs": [],
   "source": []
  }
 ],
 "metadata": {
  "kernelspec": {
   "display_name": "Python 3 (ipykernel)",
   "language": "python",
   "name": "python3"
  },
  "language_info": {
   "codemirror_mode": {
    "name": "ipython",
    "version": 3
   },
   "file_extension": ".py",
   "mimetype": "text/x-python",
   "name": "python",
   "nbconvert_exporter": "python",
   "pygments_lexer": "ipython3",
   "version": "3.9.12"
  }
 },
 "nbformat": 4,
 "nbformat_minor": 5
}
